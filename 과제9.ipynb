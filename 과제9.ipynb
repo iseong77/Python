{
  "nbformat": 4,
  "nbformat_minor": 0,
  "metadata": {
    "colab": {
      "provenance": [],
      "authorship_tag": "ABX9TyNflLet4+Z+ZO+Fi7PF8lGf",
      "include_colab_link": true
    },
    "kernelspec": {
      "name": "python3",
      "display_name": "Python 3"
    },
    "language_info": {
      "name": "python"
    }
  },
  "cells": [
    {
      "cell_type": "markdown",
      "metadata": {
        "id": "view-in-github",
        "colab_type": "text"
      },
      "source": [
        "<a href=\"https://colab.research.google.com/github/iseong77/Python/blob/main/%EA%B3%BC%EC%A0%9C9.ipynb\" target=\"_parent\"><img src=\"https://colab.research.google.com/assets/colab-badge.svg\" alt=\"Open In Colab\"/></a>"
      ]
    },
    {
      "cell_type": "code",
      "execution_count": 2,
      "metadata": {
        "colab": {
          "base_uri": "https://localhost:8080/"
        },
        "id": "fyNiTTVudCds",
        "outputId": "5effb5d1-35ee-419f-93d8-ae9b6197edbe"
      },
      "outputs": [
        {
          "output_type": "stream",
          "name": "stdout",
          "text": [
            "0 컴퓨터과 3학년 1반\n",
            "1 컴퓨터과 3학년 1반\n",
            "2 컴퓨터과 3학년 1반\n"
          ]
        }
      ],
      "source": [
        "for i in range(0,3,1):\n",
        "  print(i, \"컴퓨터과 3학년 1반\")"
      ]
    },
    {
      "cell_type": "code",
      "source": [
        "for i in [0,1,2,3,4]:\n",
        "  print(\"컴퓨터과 3학년 1반\")"
      ],
      "metadata": {
        "colab": {
          "base_uri": "https://localhost:8080/"
        },
        "id": "BPowhj2xfVRk",
        "outputId": "3e127e4a-826e-4c6d-96bf-dc5f265b08cc"
      },
      "execution_count": 6,
      "outputs": [
        {
          "output_type": "stream",
          "name": "stdout",
          "text": [
            "컴퓨터과 3학년 1반\n",
            "컴퓨터과 3학년 1반\n",
            "컴퓨터과 3학년 1반\n",
            "컴퓨터과 3학년 1반\n",
            "컴퓨터과 3학년 1반\n"
          ]
        }
      ]
    },
    {
      "cell_type": "code",
      "source": [
        "for i in [\"봄, 여름, 가을, 겨울\"]:\n",
        "  print(i, \"컴퓨터과 3학년 1반\")"
      ],
      "metadata": {
        "colab": {
          "base_uri": "https://localhost:8080/"
        },
        "id": "SOs9QLpggLHa",
        "outputId": "b4792645-707c-4c00-8b39-f68b14d6a8af"
      },
      "execution_count": 9,
      "outputs": [
        {
          "output_type": "stream",
          "name": "stdout",
          "text": [
            "봄, 여름, 가을, 겨울 컴퓨터과 3학년 1반\n"
          ]
        }
      ]
    },
    {
      "cell_type": "code",
      "source": [
        "for i  in range(1,11,1):\n",
        "  print(i, \"컴퓨터과\")"
      ],
      "metadata": {
        "colab": {
          "base_uri": "https://localhost:8080/"
        },
        "id": "HAmk6_5zgdby",
        "outputId": "fb846765-2e13-43e3-f0ac-acb498c2edaa"
      },
      "execution_count": 10,
      "outputs": [
        {
          "output_type": "stream",
          "name": "stdout",
          "text": [
            "1 컴퓨터과\n",
            "2 컴퓨터과\n",
            "3 컴퓨터과\n",
            "4 컴퓨터과\n",
            "5 컴퓨터과\n",
            "6 컴퓨터과\n",
            "7 컴퓨터과\n",
            "8 컴퓨터과\n",
            "9 컴퓨터과\n",
            "10 컴퓨터과\n"
          ]
        }
      ]
    },
    {
      "cell_type": "code",
      "source": [
        "for i in range(2,6,1):\n",
        "  print(i, end=\" \")"
      ],
      "metadata": {
        "colab": {
          "base_uri": "https://localhost:8080/"
        },
        "id": "qIfFu3bhgdeB",
        "outputId": "2c15bd04-0407-481b-db83-e1482357b637"
      },
      "execution_count": 11,
      "outputs": [
        {
          "output_type": "stream",
          "name": "stdout",
          "text": [
            "2 3 4 5 "
          ]
        }
      ]
    },
    {
      "cell_type": "code",
      "source": [
        "result = 1\n",
        "\n",
        "for i in range(1,6,1):\n",
        "  result = result * i\n",
        "\n",
        "  print(\"A B C D E 학생들을 순서대로 세우는 경우의 수\", result)\n",
        "  "
      ],
      "metadata": {
        "colab": {
          "base_uri": "https://localhost:8080/"
        },
        "id": "lZ-GsKmrgdgJ",
        "outputId": "2e1a6d8d-b8e6-479c-981d-2dbd43e45fc2"
      },
      "execution_count": 12,
      "outputs": [
        {
          "output_type": "stream",
          "name": "stdout",
          "text": [
            "A B C D E 학생들을 순서대로 세우는 경우의 수 1\n",
            "A B C D E 학생들을 순서대로 세우는 경우의 수 2\n",
            "A B C D E 학생들을 순서대로 세우는 경우의 수 6\n",
            "A B C D E 학생들을 순서대로 세우는 경우의 수 24\n",
            "A B C D E 학생들을 순서대로 세우는 경우의 수 120\n"
          ]
        }
      ]
    },
    {
      "cell_type": "code",
      "source": [
        "sum = 0\n",
        "\n",
        "for i in range(1,11,1):\n",
        "    sum = sum + i\n",
        "print(sum)"
      ],
      "metadata": {
        "colab": {
          "base_uri": "https://localhost:8080/"
        },
        "id": "KU4CXGAWh-Oc",
        "outputId": "0e8d585e-1f24-4773-e579-3ce6ada396bc"
      },
      "execution_count": 16,
      "outputs": [
        {
          "output_type": "stream",
          "name": "stdout",
          "text": [
            "55\n"
          ]
        }
      ]
    },
    {
      "cell_type": "code",
      "source": [
        "odd_sum = 0\n",
        "for i in range(1001,2001,2):\n",
        "  odd_sum = odd_sum +i\n",
        "print(odd_sum)"
      ],
      "metadata": {
        "colab": {
          "base_uri": "https://localhost:8080/"
        },
        "id": "cJ0BnXyXijEq",
        "outputId": "58c09a72-0af2-426a-d0d2-84b254f82a65"
      },
      "execution_count": 20,
      "outputs": [
        {
          "output_type": "stream",
          "name": "stdout",
          "text": [
            "750000\n"
          ]
        }
      ]
    },
    {
      "cell_type": "code",
      "source": [
        "odd_sum = 0\n",
        "for i in range(1000,2001,1):\n",
        "  if i%2 == 1:\n",
        "    odd_sum = odd_sum + i\n",
        "print(odd_sum)"
      ],
      "metadata": {
        "colab": {
          "base_uri": "https://localhost:8080/"
        },
        "id": "BWd2-T4Ai_Hq",
        "outputId": "149df56d-f7e7-4a7b-805e-fed92caff419"
      },
      "execution_count": 25,
      "outputs": [
        {
          "output_type": "stream",
          "name": "stdout",
          "text": [
            "750000\n"
          ]
        }
      ]
    },
    {
      "cell_type": "code",
      "source": [
        "i, hap = 0, 0\n",
        "for i in range(500,1001,1):\n",
        "  if i%2 == 0:\n",
        "    hap = hap + i\n",
        "print(\"500에서 1000까지의 짝수의 합:\", hap)"
      ],
      "metadata": {
        "colab": {
          "base_uri": "https://localhost:8080/"
        },
        "id": "pIvs2_oViuZr",
        "outputId": "c563f952-ae7a-4858-f9fc-4647d0134eb3"
      },
      "execution_count": 32,
      "outputs": [
        {
          "output_type": "stream",
          "name": "stdout",
          "text": [
            "500에서 1000까지의 짝수의 합: 188250\n"
          ]
        }
      ]
    },
    {
      "cell_type": "code",
      "source": [
        "for i in range(3):\n",
        "  for k in range(2):\n",
        "    print(\"중첩 for문 입니다\")"
      ],
      "metadata": {
        "colab": {
          "base_uri": "https://localhost:8080/"
        },
        "id": "mC2vYpaak2FD",
        "outputId": "2cb3e967-d1de-4e3d-aa7f-0eddf04f0a22"
      },
      "execution_count": 33,
      "outputs": [
        {
          "output_type": "stream",
          "name": "stdout",
          "text": [
            "중첩 for문 입니다\n",
            "중첩 for문 입니다\n",
            "중첩 for문 입니다\n",
            "중첩 for문 입니다\n",
            "중첩 for문 입니다\n",
            "중첩 for문 입니다\n"
          ]
        }
      ]
    },
    {
      "cell_type": "code",
      "source": [
        "for i in range(2,10,):\n",
        "  for k in range(1,10,1):\n",
        "    print(i, \"x\", k, \"=\", i*k, end= \" \")\n",
        "  print(\"\\n\")"
      ],
      "metadata": {
        "colab": {
          "base_uri": "https://localhost:8080/"
        },
        "id": "iW0LyIhQrBQK",
        "outputId": "3b3d689d-0813-4067-ba0f-00621318ab70"
      },
      "execution_count": 38,
      "outputs": [
        {
          "output_type": "stream",
          "name": "stdout",
          "text": [
            "2 x 1 = 2 2 x 2 = 4 2 x 3 = 6 2 x 4 = 8 2 x 5 = 10 2 x 6 = 12 2 x 7 = 14 2 x 8 = 16 2 x 9 = 18 \n",
            "\n",
            "3 x 1 = 3 3 x 2 = 6 3 x 3 = 9 3 x 4 = 12 3 x 5 = 15 3 x 6 = 18 3 x 7 = 21 3 x 8 = 24 3 x 9 = 27 \n",
            "\n",
            "4 x 1 = 4 4 x 2 = 8 4 x 3 = 12 4 x 4 = 16 4 x 5 = 20 4 x 6 = 24 4 x 7 = 28 4 x 8 = 32 4 x 9 = 36 \n",
            "\n",
            "5 x 1 = 5 5 x 2 = 10 5 x 3 = 15 5 x 4 = 20 5 x 5 = 25 5 x 6 = 30 5 x 7 = 35 5 x 8 = 40 5 x 9 = 45 \n",
            "\n",
            "6 x 1 = 6 6 x 2 = 12 6 x 3 = 18 6 x 4 = 24 6 x 5 = 30 6 x 6 = 36 6 x 7 = 42 6 x 8 = 48 6 x 9 = 54 \n",
            "\n",
            "7 x 1 = 7 7 x 2 = 14 7 x 3 = 21 7 x 4 = 28 7 x 5 = 35 7 x 6 = 42 7 x 7 = 49 7 x 8 = 56 7 x 9 = 63 \n",
            "\n",
            "8 x 1 = 8 8 x 2 = 16 8 x 3 = 24 8 x 4 = 32 8 x 5 = 40 8 x 6 = 48 8 x 7 = 56 8 x 8 = 64 8 x 9 = 72 \n",
            "\n",
            "9 x 1 = 9 9 x 2 = 18 9 x 3 = 27 9 x 4 = 36 9 x 5 = 45 9 x 6 = 54 9 x 7 = 63 9 x 8 = 72 9 x 9 = 81 \n",
            "\n"
          ]
        }
      ]
    },
    {
      "cell_type": "code",
      "source": [
        "i = 0\n",
        "while(i<3):\n",
        "  print(i, \"컴퓨터과 3학년 1반\")\n",
        "  i = i + i"
      ],
      "metadata": {
        "id": "JT6KeaQvt63w"
      },
      "execution_count": null,
      "outputs": []
    },
    {
      "cell_type": "code",
      "source": [
        "def menu():\n",
        "  print(\"##################\")\n",
        "  print(\"# 1, 덧셈    #\")\n",
        "  print(\"# 2, 뺄셈    #\")\n",
        "  print(\"# 3, 나눗셈  #\")\n",
        "  print(\"# 4, 곱셈    #\")\n",
        "  print(\"# 5, 종료    #\")\n",
        "\n",
        "while True :\n",
        "  menu()\n",
        "  select = int(input(\"메뉴를 선택 : \"))\n",
        "  if select == 5:\n",
        "    break"
      ],
      "metadata": {
        "colab": {
          "base_uri": "https://localhost:8080/"
        },
        "id": "QsNQEBfKvuHw",
        "outputId": "8622eb5e-a6f4-46a0-8df9-6e027fe0a51f"
      },
      "execution_count": 43,
      "outputs": [
        {
          "name": "stdout",
          "output_type": "stream",
          "text": [
            "##################\n",
            "# 1, 덧셈    #\n",
            "# 2, 뺄셈    #\n",
            "# 3, 나눗셈  #\n",
            "# 4, 곱셈    #\n",
            "# 5, 종료    #\n",
            "메뉴를 선택 : 5\n"
          ]
        }
      ]
    },
    {
      "cell_type": "code",
      "source": [
        "def menu():\n",
        "  print(\"##################\")\n",
        "  print(\"# 1, 덧셈    #\")\n",
        "  print(\"# 2, 뺄셈    #\")\n",
        "  print(\"# 3, 나눗셈  #\")\n",
        "  print(\"# 4, 곱셈    #\")\n",
        "  print(\"# 5, 종료    #\")\n",
        "\n",
        "  def menu():\n",
        "    num1 = float(input(\"첫번째 숫자를 입력 : \"))\n",
        "    num2 = float(input(\"두번째 숫자를 입력 : \"))\n",
        "    sum = num1 + num2\n",
        "    return sum\n",
        "\n",
        "  def fff():\n",
        "    num1 = float(input(\"첫번째 숫자를 입력 : \"))\n",
        "    num2 = float(input(\"두번째 숫자를 입력 : \"))\n",
        "    sub = num1 - num2\n",
        "    return sub\n",
        "\n",
        "  def aiai():\n",
        "    num1 = float(input(\"첫번째 숫자를 입력 : \"))\n",
        "    num2 = float(input(\"두번째 숫자를 입력 : \"))\n",
        "    div = num1 / num2\n",
        "    return div\n",
        "\n",
        "  def ddd():\n",
        "    num1 = float(input(\"첫번째 숫자를 입력 : \"))\n",
        "    num2 = float(input(\"두번째 숫자를 입력 : \"))\n",
        "    mul = num1 * num2\n",
        "    return mul\n",
        "\n",
        "while True :\n",
        "  menu()\n",
        "  select = int(input(\"메뉴를 선택 : \"))\n",
        "  if select == 5:\n",
        "    break\n",
        "  elif select == 1:\n",
        "    sum = menu()\n",
        "    print(\"두수의 덧셈 결과 : \", sum)\n",
        "  elif select == 2:\n",
        "    sub = fff()\n",
        "    print(\"두수의 뺄셈 결과 : \", sub)\n",
        "  elif select == 3:\n",
        "    div = aiai()\n",
        "    print(\"두수의 나누셈 결과 : \", div)\n",
        "  elif select == 4:\n",
        "    mul = ddd()\n",
        "    print(\"두수의 곱셈 결과 : \", mul)"
      ],
      "metadata": {
        "colab": {
          "base_uri": "https://localhost:8080/"
        },
        "id": "R9MlM2I_xCF4",
        "outputId": "a53da06f-6507-4519-cc23-0753a71745a4"
      },
      "execution_count": null,
      "outputs": [
        {
          "output_type": "stream",
          "name": "stdout",
          "text": [
            "##################\n",
            "# 1, 덧셈    #\n",
            "# 2, 뺄셈    #\n",
            "# 3, 나눗셈  #\n",
            "# 4, 곱셈    #\n",
            "# 5, 종료    #\n",
            "메뉴를 선택 : 1\n",
            "##################\n",
            "# 1, 덧셈    #\n",
            "# 2, 뺄셈    #\n",
            "# 3, 나눗셈  #\n",
            "# 4, 곱셈    #\n",
            "# 5, 종료    #\n",
            "두수의 덧셈 결과 :  None\n",
            "##################\n",
            "# 1, 덧셈    #\n",
            "# 2, 뺄셈    #\n",
            "# 3, 나눗셈  #\n",
            "# 4, 곱셈    #\n",
            "# 5, 종료    #\n"
          ]
        }
      ]
    },
    {
      "cell_type": "code",
      "source": [],
      "metadata": {
        "id": "xStKcIWwwCVY"
      },
      "execution_count": null,
      "outputs": []
    }
  ]
}