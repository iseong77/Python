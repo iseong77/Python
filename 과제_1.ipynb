{
  "nbformat": 4,
  "nbformat_minor": 0,
  "metadata": {
    "colab": {
      "provenance": [],
      "authorship_tag": "ABX9TyNYSA+NYmtaFNTrcm2dzZrx",
      "include_colab_link": true
    },
    "kernelspec": {
      "name": "python3",
      "display_name": "Python 3"
    },
    "language_info": {
      "name": "python"
    }
  },
  "cells": [
    {
      "cell_type": "markdown",
      "metadata": {
        "id": "view-in-github",
        "colab_type": "text"
      },
      "source": [
        "<a href=\"https://colab.research.google.com/github/iseong77/Python/blob/main/%EA%B3%BC%EC%A0%9C_1.ipynb\" target=\"_parent\"><img src=\"https://colab.research.google.com/assets/colab-badge.svg\" alt=\"Open In Colab\"/></a>"
      ]
    },
    {
      "cell_type": "code",
      "execution_count": 8,
      "metadata": {
        "colab": {
          "base_uri": "https://localhost:8080/"
        },
        "id": "FtUP0PYGVW_7",
        "outputId": "b703b1e8-544b-4f5a-993d-c8ed31f4d174"
      },
      "outputs": [
        {
          "output_type": "stream",
          "name": "stdout",
          "text": [
            "## 택배를 보내기 위한 정보를 입력하세요.##\n",
            "받는 사람 : 한지성\n",
            "주소 : 경기도 안산시 상록구 정동 1길 7\n",
            "무게(g) : 721\n",
            "**받는 사람 :  한지성\n",
            "**주소 :  경기도 안산시 상록구 정동 1길 7\n",
            "**배송비 :  3605\n"
          ]
        }
      ],
      "source": [
        "print(\"## 택배를 보내기 위한 정보를 입력하세요.##\")\n",
        "recieve_name = input(\"받는 사람 : \")\n",
        "address = input(\"주소 : \")\n",
        "weight = int(input(\"무게(g) : \"))\n",
        "value = weight * 5\n",
        "print(\"**받는 사람 : \", recieve_name)\n",
        "print(\"**주소 : \", address)\n",
        "print(\"**배송비 : \", value)"
      ]
    }
  ]
}