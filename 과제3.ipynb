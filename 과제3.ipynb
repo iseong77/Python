{
  "nbformat": 4,
  "nbformat_minor": 0,
  "metadata": {
    "colab": {
      "provenance": [],
      "authorship_tag": "ABX9TyPYJQMn58LuP6eG06ufLhpK",
      "include_colab_link": true
    },
    "kernelspec": {
      "name": "python3",
      "display_name": "Python 3"
    },
    "language_info": {
      "name": "python"
    }
  },
  "cells": [
    {
      "cell_type": "markdown",
      "metadata": {
        "id": "view-in-github",
        "colab_type": "text"
      },
      "source": [
        "<a href=\"https://colab.research.google.com/github/iseong77/Python/blob/main/%EA%B3%BC%EC%A0%9C3.ipynb\" target=\"_parent\"><img src=\"https://colab.research.google.com/assets/colab-badge.svg\" alt=\"Open In Colab\"/></a>"
      ]
    },
    {
      "cell_type": "code",
      "source": [
        "pound = float(input(\"파운드(1b)를 입력하세요 : \"))\n",
        "kg = pound * 0.453592\n",
        "print(f\"{pound: 1f} 파운드는 {kg : 5f} 킬로그램입니다.\")"
      ],
      "metadata": {
        "colab": {
          "base_uri": "https://localhost:8080/"
        },
        "id": "Gxgov8fmN87q",
        "outputId": "daef817b-e074-4adf-af1f-2cb302b64bcd"
      },
      "execution_count": 17,
      "outputs": [
        {
          "output_type": "stream",
          "name": "stdout",
          "text": [
            "파운드(1b)를 입력하세요 : 15\n",
            " 15.000000 파운드는  6.803880 킬로그램입니다.\n"
          ]
        }
      ]
    }
  ]
}