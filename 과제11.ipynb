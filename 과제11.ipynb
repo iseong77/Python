{
  "nbformat": 4,
  "nbformat_minor": 0,
  "metadata": {
    "colab": {
      "provenance": [],
      "authorship_tag": "ABX9TyM7B8HJ4jggCxK2bg0cDgC3",
      "include_colab_link": true
    },
    "kernelspec": {
      "name": "python3",
      "display_name": "Python 3"
    },
    "language_info": {
      "name": "python"
    }
  },
  "cells": [
    {
      "cell_type": "markdown",
      "metadata": {
        "id": "view-in-github",
        "colab_type": "text"
      },
      "source": [
        "<a href=\"https://colab.research.google.com/github/iseong77/Python/blob/main/%EA%B3%BC%EC%A0%9C11.ipynb\" target=\"_parent\"><img src=\"https://colab.research.google.com/assets/colab-badge.svg\" alt=\"Open In Colab\"/></a>"
      ]
    },
    {
      "cell_type": "code",
      "execution_count": 4,
      "metadata": {
        "colab": {
          "base_uri": "https://localhost:8080/"
        },
        "id": "FvyJwD4ofIXa",
        "outputId": "7d8941bb-8e6a-4ed5-dca5-3780f66d7a53"
      },
      "outputs": [
        {
          "output_type": "stream",
          "name": "stdout",
          "text": [
            "숫자 : 20\n",
            "숫자 : 20\n",
            "숫자 : 230\n",
            "숫자 : 20\n",
            "숫자 : 0\n",
            "리스트의 합계 :  290\n"
          ]
        }
      ],
      "source": [
        "numList = [0,0,0,0,0]\n",
        "\n",
        "numList[0] = input(\"숫자 : \")\n",
        "numList[1] = input(\"숫자 : \")\n",
        "numList[2] = input(\"숫자 : \")\n",
        "numList[3] = input(\"숫자 : \")\n",
        "numList[4] = input(\"숫자 : \")\n",
        "\n",
        "sum = int(numList[0]) + int(numList[1]) + int(numList[2]) + int(numList[3]) + int(numList[4])\n",
        "print(\"리스트의 합계 : \", sum)"
      ]
    },
    {
      "cell_type": "code",
      "source": [
        "mylist = []\n",
        "\n",
        "mylist.append(\"안산\")\n",
        "mylist.append(\"공고\")\n",
        "mylist.append(3100)\n",
        "mylist.append(777)\n",
        "\n",
        "print(mylist)"
      ],
      "metadata": {
        "colab": {
          "base_uri": "https://localhost:8080/"
        },
        "id": "rFBIoJdistJb",
        "outputId": "2f44f608-8abf-4657-9086-c80ecfda1ef1"
      },
      "execution_count": 8,
      "outputs": [
        {
          "output_type": "stream",
          "name": "stdout",
          "text": [
            "['안산', '공고', 3100, 777]\n"
          ]
        }
      ]
    },
    {
      "cell_type": "code",
      "source": [
        "import random\n",
        "wisesay = [\"중요한 것은 꺾이지 않는 마음이다.\",\n",
        "           \"너 자신을 '노'알라\",\n",
        "           \"피할 수 없으면 즐겨라\",\n",
        "           \"신은 용기있는 자를 결코 버리지 않는다.\",\n",
        "           \"내일은 내일의 태양이 온다.\",\n",
        "           \"이 또한 지나가리라.\"]\n",
        "rnd_say = [random.choice(wisesay)]\n",
        "print(\"오늘의 명언 ==>\", rnd_say)"
      ],
      "metadata": {
        "colab": {
          "base_uri": "https://localhost:8080/"
        },
        "id": "fmawmjFVuzND",
        "outputId": "d30d1da9-7fdd-4dd7-dacd-8f3aef452afe"
      },
      "execution_count": 19,
      "outputs": [
        {
          "output_type": "stream",
          "name": "stdout",
          "text": [
            "오늘의 명언 ==> [\"너 자신을 '노'알라\"]\n"
          ]
        }
      ]
    },
    {
      "cell_type": "code",
      "source": [
        "import detetim\n",
        "\n",
        "now  detetime.date.today()\n",
        "d_day = datetim,data(2023,11,16)\n",
        "d_day = d_day - now\n",
        "print(d_day.days)  "
      ],
      "metadata": {
        "id": "Ms2LkpLr0DvS"
      },
      "execution_count": null,
      "outputs": []
    }
  ]
}