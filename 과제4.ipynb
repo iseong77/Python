{
  "nbformat": 4,
  "nbformat_minor": 0,
  "metadata": {
    "colab": {
      "provenance": [],
      "authorship_tag": "ABX9TyOWa5JxMfiNOzIQoqV7Vz/v",
      "include_colab_link": true
    },
    "kernelspec": {
      "name": "python3",
      "display_name": "Python 3"
    },
    "language_info": {
      "name": "python"
    }
  },
  "cells": [
    {
      "cell_type": "markdown",
      "metadata": {
        "id": "view-in-github",
        "colab_type": "text"
      },
      "source": [
        "<a href=\"https://colab.research.google.com/github/iseong77/Python/blob/main/%EA%B3%BC%EC%A0%9C4.ipynb\" target=\"_parent\"><img src=\"https://colab.research.google.com/assets/colab-badge.svg\" alt=\"Open In Colab\"/></a>"
      ]
    },
    {
      "cell_type": "code",
      "source": [
        "a = 900\n",
        "b = 1800\n",
        "c = 3500\n",
        "d = 4000\n",
        "e = 1500\n",
        "f = 2000\n",
        "g = 1800\n",
        "\n",
        "sale = b*2 + d*4 + e + f*4 + g*5\n",
        "purchase = a*10 + c*5\n",
        "total = sale - purchase\n",
        "print(\"오늘 총 매출액은\", total, \"원 입니다\")\n"
      ],
      "metadata": {
        "colab": {
          "base_uri": "https://localhost:8080/"
        },
        "id": "0P820_PEUsgf",
        "outputId": "cfb4b746-8f1f-4250-cb48-c7b1ff0c12bc"
      },
      "execution_count": 26,
      "outputs": [
        {
          "output_type": "stream",
          "name": "stdout",
          "text": [
            "오늘 총 매출액은 11600 원 입니다\n"
          ]
        }
      ]
    }
  ]
}