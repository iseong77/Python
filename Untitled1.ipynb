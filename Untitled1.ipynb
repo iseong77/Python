{
  "nbformat": 4,
  "nbformat_minor": 0,
  "metadata": {
    "colab": {
      "provenance": [],
      "authorship_tag": "ABX9TyMNyuJXRBMVpNkWcSV+Vp4o",
      "include_colab_link": true
    },
    "kernelspec": {
      "name": "python3",
      "display_name": "Python 3"
    },
    "language_info": {
      "name": "python"
    }
  },
  "cells": [
    {
      "cell_type": "markdown",
      "metadata": {
        "id": "view-in-github",
        "colab_type": "text"
      },
      "source": [
        "<a href=\"https://colab.research.google.com/github/iseong77/Python/blob/main/Untitled1.ipynb\" target=\"_parent\"><img src=\"https://colab.research.google.com/assets/colab-badge.svg\" alt=\"Open In Colab\"/></a>"
      ]
    },
    {
      "cell_type": "code",
      "execution_count": 11,
      "metadata": {
        "colab": {
          "base_uri": "https://localhost:8080/"
        },
        "id": "zaFR34ELHdaZ",
        "outputId": "4c6e9b36-791f-4ad0-ca31-511ea20188c9"
      },
      "outputs": [
        {
          "output_type": "stream",
          "name": "stdout",
          "text": [
            "숫자1 : 100\n",
            "숫자2 : 10\n",
            "100 + 10.0 = 110.0\n",
            "100 - 10.0 = 90.0\n",
            "100 * 10.0 = 1000.0\n",
            "100 / 10.0 = 10.0\n",
            "100 % 10.0 = 0.0\n",
            "100 ** 10.0 = 1e+20\n"
          ]
        }
      ],
      "source": [
        "\n",
        "num1 = int(input(\"숫자1 : \"))\n",
        "num2 = float(input(\"숫자2 : \"))\n",
        "\n",
        "num3 = num1 + num2\n",
        "num4 = num1 - num2\n",
        "num5 = num1 * num2\n",
        "num6 = num1 / num2\n",
        "num7 = num1 % num2\n",
        "num8 = num1 ** num2\n",
        "\n",
        "print(num1, \"+\", num2, \"=\", num3)\n",
        "print(num1, \"-\", num2, \"=\", num4)\n",
        "print(num1, \"*\", num2, \"=\", num5)\n",
        "print(num1, \"/\", num2, \"=\", num6)\n",
        "print(num1, \"%\", num2, \"=\", num7)\n",
        "print(num1, \"**\", num2, \"=\",num8)"
      ]
    }
  ]
}